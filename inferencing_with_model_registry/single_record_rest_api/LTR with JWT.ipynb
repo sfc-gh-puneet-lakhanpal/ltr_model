{
 "cells": [
  {
   "cell_type": "markdown",
   "id": "0b59c1fd-ff9e-4697-8afe-1f0307083659",
   "metadata": {
    "collapsed": false,
    "jupyter": {
     "outputs_hidden": false
    },
    "name": "header"
   },
   "source": [
    "### LTR via JWT"
   ]
  },
  {
   "cell_type": "code",
   "execution_count": 5,
   "id": "72f8b143",
   "metadata": {},
   "outputs": [],
   "source": [
    "import requests\n",
    "import os\n",
    "import sys\n",
    "from snowflake.snowpark import Session\n",
    "import json\n",
    "import datetime\n",
    "from accessviakeypair import get_token"
   ]
  },
  {
   "cell_type": "code",
   "execution_count": 6,
   "id": "3775908f-ca36-4846-8f38-5adca39217f2",
   "metadata": {
    "codeCollapsed": false,
    "collapsed": false,
    "jupyter": {
     "outputs_hidden": false
    },
    "language": "python",
    "name": "import_libraries"
   },
   "outputs": [
    {
     "name": "stdout",
     "output_type": "stream",
     "text": [
      "https://nu64aqc-sfsenorthamerica-demo391.snowflakecomputing.app/predict\n"
     ]
    }
   ],
   "source": [
    "account = \"sfsenorthamerica-demo391\"\n",
    "user = \"kipi_ltr_user\"\n",
    "private_key_file_path = \"./rsa_key.p8\"\n",
    "endpoint = \"nu64aqc-sfsenorthamerica-demo391.snowflakecomputing.app\"\n",
    "role = \"kipi_ltr_role\"\n",
    "endpoint_path = \"/predict\"\n",
    "spcs_url=f'https://{endpoint}{endpoint_path}'\n",
    "\n",
    "\n",
    "data = {'data': [[0, 1.0, 0.0, 39.0, 79275.83, 790.0, 1.0, 500.0, 100.0, 0.0, 34855.0, 290.0, 44420.83, 2.27444642088653, 0.0, 0.0, 0.0, 1.0, 0.0, 1.0, 0.0, 0.0],\n",
    "                 [1, 1.0, 0.0, 39.0, 79275.83, 790.0, 1.0, 500.0, 100.0, 0.0, 34855.0, 290.0, 44420.83, 2.27444642088653, 0.0, 0.0, 0.0, 1.0, 0.0, 1.0, 0.0, 0.0],\n",
    "                 [2, 1.0, 0.0, 39.0, 79275.83, 790.0, 1.0, 500.0, 100.0, 0.0, 34855.0, 290.0, 44420.83, 2.27444642088653, 0.0, 0.0, 0.0, 1.0, 0.0, 1.0, 0.0, 0.0],\n",
    "                 [3, 1.0, 0.0, 39.0, 79275.83, 790.0, 1.0, 500.0, 100.0, 0.0, 34855.0, 290.0, 44420.83, 2.27444642088653, 0.0, 0.0, 0.0, 1.0, 0.0, 1.0, 0.0, 0.0],\n",
    "                 [4, 1.0, 0.0, 39.0, 79275.83, 790.0, 1.0, 500.0, 100.0, 0.0, 34855.0, 290.0, 44420.83, 2.27444642088653, 0.0, 0.0, 0.0, 1.0, 0.0, 1.0, 0.0, 0.0],\n",
    "                 [5, 1.0, 0.0, 39.0, 79275.83, 790.0, 1.0, 500.0, 100.0, 0.0, 34855.0, 290.0, 44420.83, 2.27444642088653, 0.0, 0.0, 0.0, 1.0, 0.0, 1.0, 0.0, 0.0],\n",
    "                 [6, 1.0, 0.0, 39.0, 79275.83, 790.0, 1.0, 500.0, 100.0, 0.0, 34855.0, 290.0, 44420.83, 2.27444642088653, 0.0, 0.0, 0.0, 1.0, 0.0, 1.0, 0.0, 0.0],\n",
    "                 [7, 1.0, 0.0, 39.0, 79275.83, 790.0, 1.0, 500.0, 100.0, 0.0, 34855.0, 290.0, 44420.83, 2.27444642088653, 0.0, 0.0, 0.0, 1.0, 0.0, 1.0, 0.0, 0.0],\n",
    "                 [8, 1.0, 0.0, 39.0, 79275.83, 790.0, 1.0, 500.0, 100.0, 0.0, 34855.0, 290.0, 44420.83, 2.27444642088653, 0.0, 0.0, 0.0, 1.0, 0.0, 1.0, 0.0, 0.0],\n",
    "                 [9, 1.0, 0.0, 39.0, 79275.83, 790.0, 1.0, 500.0, 100.0, 0.0, 34855.0, 290.0, 44420.83, 2.27444642088653, 0.0, 0.0, 0.0, 1.0, 0.0, 1.0, 0.0, 0.0]]}\n",
    "\n",
    "print(spcs_url)"
   ]
  },
  {
   "cell_type": "code",
   "execution_count": 7,
   "id": "bb49299f",
   "metadata": {},
   "outputs": [],
   "source": [
    "def classify(token, url, data):\n",
    "  # Create a request to the ingress endpoint with authz.\n",
    "  headers = {'Authorization': f'Snowflake Token=\"{token}\"'}\n",
    "  response = requests.post(f'{url}',  json=data, headers=headers)\n",
    "  return response.text"
   ]
  },
  {
   "cell_type": "code",
   "execution_count": 9,
   "id": "e8429033",
   "metadata": {},
   "outputs": [],
   "source": [
    "token = get_token(account, user, private_key_file_path, endpoint, role)"
   ]
  },
  {
   "cell_type": "code",
   "execution_count": 10,
   "id": "c695373e-ac74-4b62-a1f1-08206cbd5c81",
   "metadata": {
    "codeCollapsed": false,
    "collapsed": false,
    "jupyter": {
     "outputs_hidden": false
    },
    "language": "python",
    "name": "create_query_function"
   },
   "outputs": [
    {
     "name": "stdout",
     "output_type": "stream",
     "text": [
      "{\"data\":[[0,{\"output_feature_0\":2.0944447977343517}],[1,{\"output_feature_0\":2.0944447977343517}],[2,{\"output_feature_0\":2.0944447977343517}],[3,{\"output_feature_0\":2.0944447977343517}],[4,{\"output_feature_0\":2.0944447977343517}],[5,{\"output_feature_0\":2.0944447977343517}],[6,{\"output_feature_0\":2.0944447977343517}],[7,{\"output_feature_0\":2.0944447977343517}],[8,{\"output_feature_0\":2.0944447977343517}],[9,{\"output_feature_0\":2.0944447977343517}]]}\n",
      "CPU times: user 5.29 ms, sys: 2.89 ms, total: 8.18 ms\n",
      "Wall time: 464 ms\n"
     ]
    }
   ],
   "source": [
    "%%time\n",
    "results = classify(token=token, url=spcs_url, data=data)\n",
    "print(results)"
   ]
  },
  {
   "cell_type": "code",
   "execution_count": null,
   "id": "ac322a0f",
   "metadata": {},
   "outputs": [],
   "source": []
  }
 ],
 "metadata": {
  "kernelspec": {
   "display_name": "ltr_model",
   "language": "python",
   "name": "python3"
  },
  "language_info": {
   "codemirror_mode": {
    "name": "ipython",
    "version": 3
   },
   "file_extension": ".py",
   "mimetype": "text/x-python",
   "name": "python",
   "nbconvert_exporter": "python",
   "pygments_lexer": "ipython3",
   "version": "3.11.11"
  }
 },
 "nbformat": 4,
 "nbformat_minor": 5
}
