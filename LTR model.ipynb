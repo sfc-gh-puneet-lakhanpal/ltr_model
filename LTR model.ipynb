{
 "metadata": {
  "kernelspec": {
   "display_name": "Streamlit Notebook",
   "name": "streamlit"
  },
  "lastEditStatus": {
   "notebookId": "iukad76vnowpfqgc44zu",
   "authorId": "233194668061",
   "authorName": "PLAKHANPAL",
   "authorEmail": "Puneet.Lakhanpal@Snowflake.com",
   "sessionId": "c6233b4f-57f5-4059-ac3a-44b03467cef5",
   "lastEditTime": 1745569231723
  }
 },
 "nbformat_minor": 5,
 "nbformat": 4,
 "cells": [
  {
   "cell_type": "code",
   "id": "3775908f-ca36-4846-8f38-5adca39217f2",
   "metadata": {
    "language": "python",
    "name": "import_libs"
   },
   "source": "# Import python packages\nimport streamlit as st\nimport pandas as pd\nimport numpy as np\nimport random\nimport datetime\n# We can also use Snowpark for our analyses!\nfrom snowflake.snowpark.context import get_active_session\nimport lightgbm as lgb\nfrom snowflake.snowpark import functions as F\nimport logging\nlogger = logging.getLogger(__name__)\nlogger.setLevel(logging.ERROR)\nsession = get_active_session()\nprint(f\"Database: {session.get_current_database()}, Schema: {session.get_current_schema()}\")",
   "execution_count": null,
   "outputs": []
  },
  {
   "cell_type": "code",
   "id": "8d50cbf4-0c8d-4950-86cb-114990437ac9",
   "metadata": {
    "language": "python",
    "name": "params",
    "codeCollapsed": false
   },
   "source": "NUM_USERS = 1000\nNUM_OFFERS = 50\nAVG_OFFERS_PER_USER = 10\nMAX_OFFERS_PER_USER = 20\nMODEL_NAME = \"credit_card_ltr_model\"\nMODEL_VERSION = \"v1\"\nSERVICE_NAME = \"credit_card_ltr_service\"",
   "execution_count": null,
   "outputs": []
  },
  {
   "cell_type": "code",
   "id": "c695373e-ac74-4b62-a1f1-08206cbd5c81",
   "metadata": {
    "language": "python",
    "name": "generate_users_function",
    "codeCollapsed": false
   },
   "source": "def generate_users(n):\n    \"\"\"Generates synthetic user data.\"\"\"\n    data = []\n    for i in range(n):\n        user_id = f\"user_{i:04d}\"\n        age = random.randint(18, 75)\n        income = max(20000, np.random.normal(loc=60000 + (age - 18) * 500, scale=20000))\n        credit_score = min(850, max(300, int(np.random.normal(loc=500 + (age / 80) * 200 + (income / 150000) * 150, scale=75))))\n        num_existing_cards = random.randint(0, 8)\n        data.append({\n        \"USER_ID\": user_id,\n        \"AGE\": age,\n        \"INCOME\": round(income, 2),\n        \"CREDIT_SCORE\": credit_score,\n        \"NUM_EXISTING_CARDS\": num_existing_cards,\n        })\n    return pd.DataFrame(data)",
   "execution_count": null,
   "outputs": []
  },
  {
   "cell_type": "code",
   "id": "9bf734d2-0935-478e-9f74-93bd4d2ebfe8",
   "metadata": {
    "language": "python",
    "name": "generate_offers_function",
    "codeCollapsed": false
   },
   "outputs": [],
   "source": "def generate_offers(n):\n    \"\"\"Generates synthetic credit card offer data.\"\"\"\n    data = []\n    issuers = [\"amex\", \"visa\", \"chase\", \"mastercard\"]\n    credit_scores = [400, 450, 500, 550, 600, 650, 700, 750, 800, 850]\n    fees = [10, 50, 100, 150, 200, 250, 300, 350, 400, 450, 500]\n    reward_types = [\"cashback\", \"points\", \"miles\", \"low_apr\"]\n    for i in range(n):\n        offer_id = f\"offer_{i:03d}\"\n        issuer = random.choice(issuers)\n        card_name = f\"{issuer} Card {random.randint(1,100)}\"\n        min_credit_score = random.choice(credit_scores)\n        annual_fee = random.choice(fees)\n        reward_type = random.choice(reward_types)\n        base_reward_rate = round(random.uniform(0.005, 0.03), 3) if reward_type!= 'low_apr' else 0.0\n        required_income = max(15000, min_credit_score * 50 + annual_fee * 100 + random.randint(-5000, 15000))\n        data.append({\n        \"OFFER_ID\": offer_id,\n        \"CARD_NAME\": card_name,\n        \"ISSUER\": issuer,\n        \"MIN_CREDIT_SCORE\": min_credit_score,\n        \"ANNUAL_FEE\": annual_fee,\n        \"REWARD_TYPE\": reward_type,\n        \"BASE_REWARD_RATE\": base_reward_rate,\n        \"REQUIRED_INCOME\": round(required_income, 2),\n        })\n    return pd.DataFrame(data)",
   "execution_count": null
  },
  {
   "cell_type": "code",
   "id": "1a2abc14-5213-4b34-beb8-9736de1fe3c0",
   "metadata": {
    "language": "python",
    "name": "generate_interactions_function",
    "codeCollapsed": false
   },
   "outputs": [],
   "source": "def generate_interactions(users_df, offers_df, avg_offers, max_offers):\n    \"\"\"Generates synthetic user-offer interactions and relevance scores.\"\"\"\n    interactions = []\n    all_offer_ids = offers_df['OFFER_ID'].tolist()\n    query_counter = 0\n    for _, user in users_df.iterrows():\n        user_id = user['USER_ID']\n        num_offers_shown = random.randint(max(1, avg_offers // 2), max_offers)\n        shown_offers = random.sample(all_offer_ids, num_offers_shown)\n        query_id = f\"query_{query_counter:05d}\"\n        query_counter += 1    \n        for offer_id in shown_offers:\n            offer = offers_df[offers_df['OFFER_ID'] == offer_id].iloc[0]\n            timestamp = datetime.datetime.now() - datetime.timedelta(days=random.randint(0, 90), hours=random.randint(0, 23))\n            # Determine relevance (simplified logic)\n            relevance = 0\n            prob_click = 0.1 # Base click probability\n            prob_apply = 0.05 # Base apply probability (conditional on click)\n    \n            # Increase probability based on user/offer match\n            if user[\"CREDIT_SCORE\"] >= offer[\"MIN_CREDIT_SCORE\"]:\n                prob_click += 0.15\n                prob_apply += 0.1\n            if user[\"INCOME\"] >= offer[\"REQUIRED_INCOME\"]:\n                prob_click += 0.1\n                prob_apply += 0.05\n            if user['NUM_EXISTING_CARDS'] < 3:\n                 prob_click += 0.05\n                 prob_apply += 0.02\n    \n            clicked = 0\n            applied = 0\n            if random.random() < prob_click:\n                clicked = 1\n                relevance = 1\n                if random.random() < prob_apply:\n                    applied = 1\n                    relevance = 2 # Higher relevance for application\n    \n            interactions.append({\n                \"QUERY_ID\": query_id,\n                \"USER_ID\": user_id,\n                \"OFFER_ID\": offer_id,\n                \"TIMESTAMP\": timestamp,\n                \"CLICKED\": clicked,\n                \"APPLIED\": applied,\n                \"RELEVANCE\": relevance, # Target variable for LTR\n            })\n    \n    return pd.DataFrame(interactions)",
   "execution_count": null
  },
  {
   "cell_type": "code",
   "id": "0e1c174d-7599-48b1-a747-c9fc7a56a86c",
   "metadata": {
    "language": "python",
    "name": "utility_function_to_load_data_into_snowflake",
    "codeCollapsed": false
   },
   "outputs": [],
   "source": "def load_data_to_snowflake(session, df, table_name):\n    \"\"\"Loads a Pandas DataFrame into a Snowflake table.\"\"\"\n    print(f\"Loading data into Snowflake table: {table_name}\")\n    # Infer schema (adjust types if necessary)\n    snowpark_df = session.create_dataframe(df)\n    snowpark_df.write.mode(\"overwrite\").save_as_table(table_name)\n    print(f\"Successfully loaded {len(df)} rows into {table_name}.\")",
   "execution_count": null
  },
  {
   "cell_type": "code",
   "id": "c8aa09dd-1f45-4fd4-aa74-6b1f2e13f01a",
   "metadata": {
    "language": "python",
    "name": "generate_synthetic_data",
    "codeCollapsed": false
   },
   "outputs": [],
   "source": "users_df = generate_users(NUM_USERS)\noffers_df = generate_offers(NUM_OFFERS)\ninteractions_df = generate_interactions(users_df, offers_df, AVG_OFFERS_PER_USER, MAX_OFFERS_PER_USER)",
   "execution_count": null
  },
  {
   "cell_type": "code",
   "id": "a2b12325-f77c-4acc-956d-90b2eff19018",
   "metadata": {
    "language": "python",
    "name": "cell3",
    "codeCollapsed": false
   },
   "outputs": [],
   "source": "interactions_df.head()",
   "execution_count": null
  },
  {
   "cell_type": "code",
   "id": "6e376848-2fcd-4f41-9dd8-73f8558e88a0",
   "metadata": {
    "language": "python",
    "name": "load_data_into_snowflake",
    "codeCollapsed": false
   },
   "outputs": [],
   "source": "load_data_to_snowflake(session, users_df, \"USERS\")\nload_data_to_snowflake(session, offers_df, \"OFFERS\")\nload_data_to_snowflake(session, interactions_df, \"INTERACTIONS\")",
   "execution_count": null
  },
  {
   "cell_type": "markdown",
   "id": "1b5c03f8-89c9-46e2-8173-a56b03c78a8a",
   "metadata": {
    "name": "intro_feature_engineering",
    "collapsed": false
   },
   "source": "### Feature Engineering"
  },
  {
   "cell_type": "code",
   "id": "45d7ca98-85c1-49bd-bf3f-99e358da60ff",
   "metadata": {
    "language": "python",
    "name": "snowpark_dataframes"
   },
   "outputs": [],
   "source": "users_sp_df = session.table(\"USERS\")\noffers_sp_df = session.table(\"OFFERS\")\ninteractions_sp_df = session.table(\"INTERACTIONS\")",
   "execution_count": null
  },
  {
   "cell_type": "code",
   "id": "3cf05601-71b0-4e1a-9054-4becd9f904e0",
   "metadata": {
    "language": "python",
    "name": "see_interactions"
   },
   "outputs": [],
   "source": "interactions_sp_df.show()",
   "execution_count": null
  },
  {
   "cell_type": "code",
   "id": "13d7e555-b347-409b-b2a3-deafacf02a73",
   "metadata": {
    "language": "python",
    "name": "see_users",
    "codeCollapsed": false
   },
   "outputs": [],
   "source": "users_sp_df.show()",
   "execution_count": null
  },
  {
   "cell_type": "code",
   "id": "174da9d3-e29b-4bb1-80b7-1cbeffda91ce",
   "metadata": {
    "language": "python",
    "name": "see_offers",
    "codeCollapsed": false
   },
   "outputs": [],
   "source": "offers_sp_df.show()",
   "execution_count": null
  },
  {
   "cell_type": "code",
   "id": "246171b5-6c72-4f3b-b3ee-cffcb77501ae",
   "metadata": {
    "language": "python",
    "name": "joined",
    "codeCollapsed": false
   },
   "outputs": [],
   "source": "joined_df = interactions_sp_df.join(users_sp_df, interactions_sp_df[\"USER_ID\"] == users_sp_df[\"USER_ID\"], rsuffix=\"_USER\") \\\n                             .join(offers_sp_df, interactions_sp_df[\"OFFER_ID\"] == offers_sp_df[\"OFFER_ID\"], rsuffix=\"_OFFER\")",
   "execution_count": null
  },
  {
   "cell_type": "code",
   "id": "764af1d0-5101-495d-906d-97b77cce4e59",
   "metadata": {
    "language": "python",
    "name": "cell6",
    "codeCollapsed": false
   },
   "outputs": [],
   "source": "joined_df.show()",
   "execution_count": null
  },
  {
   "cell_type": "code",
   "id": "76d0cdac-9286-4599-8917-76cf67efe038",
   "metadata": {
    "language": "python",
    "name": "cell1"
   },
   "outputs": [],
   "source": "feature_eng_df = joined_df.select(\n    \"QUERY_ID\",\n    \"USER_ID\",\n    \"OFFER_ID\",\n    \"CLICKED\",\n    \"APPLIED\",\n    \"RELEVANCE\",\n    \"AGE\",\n    \"INCOME\",\n    \"CREDIT_SCORE\",\n    \"NUM_EXISTING_CARDS\",\n    F.col(\"MIN_CREDIT_SCORE\").alias(\"OFFER_MIN_CREDIT_SCORE\"),\n    F.col(\"ANNUAL_FEE\").alias(\"OFFER_ANNUAL_FEE\"),\n    F.col(\"BASE_REWARD_RATE\").alias(\"OFFER_BASE_REWARD_RATE\"),\n    F.col(\"REQUIRED_INCOME\").alias(\"OFFER_REQUIRED_INCOME\"),\n    F.col(\"REWARD_TYPE\").alias(\"OFFER_REWARD_TYPE\"),\n    F.col(\"ISSUER\").alias(\"OFFER_ISSUER\"),\n    (F.col(\"CREDIT_SCORE\")-F.col(\"MIN_CREDIT_SCORE\")).alias(\"CREDIT_SCORE_DIFF\"),\n    (F.col(\"INCOME\") - F.col(\"REQUIRED_INCOME\")).alias(\"INCOME_DIFF\"),\n    F.iff(F.col(\"INCOME\") > 0, F.col(\"INCOME\") / F.col(\"REQUIRED_INCOME\"), F.lit(1.0)).alias(\"INCOME_RATIO\"),\n    # Simple one-hot encoding placeholders (more robust methods exist in Snowpark ML)\n    F.iff(F.col(\"REWARD_TYPE\") == 'cashback', F.lit(1), F.lit(0)).alias(\"IS_CASHBACK\"),\n    F.iff(F.col(\"REWARD_TYPE\") == 'points', F.lit(1), F.lit(0)).alias(\"IS_POINTS\"),\n    F.iff(F.col(\"REWARD_TYPE\") == 'miles', F.lit(1), F.lit(0)).alias(\"IS_MILES\"),\n    F.iff(F.col(\"REWARD_TYPE\") == 'low_apr', F.lit(1), F.lit(0)).alias(\"IS_LOW_APR\"),\n    F.iff(F.col(\"OFFER_ISSUER\") == 'amex', F.lit(1), F.lit(0)).alias(\"IS_AMEX\"),\n    F.iff(F.col(\"OFFER_ISSUER\") == 'visa', F.lit(1), F.lit(0)).alias(\"IS_VISA\"),\n    F.iff(F.col(\"OFFER_ISSUER\") == 'chase', F.lit(1), F.lit(0)).alias(\"IS_CHASE\"),\n    F.iff(F.col(\"OFFER_ISSUER\") == 'mastercard', F.lit(1), F.lit(0)).alias(\"IS_MASTERCARD\")\n)\n",
   "execution_count": null
  },
  {
   "cell_type": "code",
   "id": "7ca7f883-d499-48d5-960b-b2f28efe3e31",
   "metadata": {
    "language": "python",
    "name": "cell8",
    "codeCollapsed": false
   },
   "outputs": [],
   "source": "feature_eng_df.write.mode(\"overwrite\").save_as_table(\"ENGINEERED_FEATURES\")\nfeature_eng_df = session.table(\"ENGINEERED_FEATURES\")",
   "execution_count": null
  },
  {
   "cell_type": "code",
   "id": "195ce610-ea0b-4c78-930f-6264a6f5e917",
   "metadata": {
    "language": "python",
    "name": "cell11"
   },
   "outputs": [],
   "source": "feature_eng_df.show()",
   "execution_count": null
  },
  {
   "cell_type": "code",
   "id": "9fe9e52a-39aa-4e30-a218-a8fd55a14541",
   "metadata": {
    "language": "python",
    "name": "cell5",
    "codeCollapsed": false
   },
   "outputs": [],
   "source": "identifier_cols = [\"QUERY_ID\", \"USER_ID\", \"OFFER_ID\"]\ncategorical_cols = [\"OFFER_REWARD_TYPE\", \"OFFER_ISSUER\"]\ntarget_col = \"RELEVANCE\"\nfeature_cols = feature_eng_df.columns\nfeature_cols.remove(target_col)\nfor col in identifier_cols:\n    feature_cols.remove(col)\nfor col in categorical_cols:\n    feature_cols.remove(col)",
   "execution_count": null
  },
  {
   "cell_type": "code",
   "id": "ecc64f65-46ec-4783-8ca6-7544463bc1cc",
   "metadata": {
    "language": "python",
    "name": "cell9",
    "codeCollapsed": false
   },
   "outputs": [],
   "source": "feature_cols",
   "execution_count": null
  },
  {
   "cell_type": "code",
   "id": "bdcdee52-7c90-46fd-97fe-ad391a4c9386",
   "metadata": {
    "language": "python",
    "name": "cell7",
    "codeCollapsed": false
   },
   "outputs": [],
   "source": "feature_eng_df.select(*feature_cols).show()",
   "execution_count": null
  },
  {
   "cell_type": "markdown",
   "id": "23019d0f-296e-4331-9363-5fdff3bf62ea",
   "metadata": {
    "name": "intro_training_data_prep",
    "collapsed": false
   },
   "source": "### Prepare data for training"
  },
  {
   "cell_type": "code",
   "id": "d824bbc8-5f8b-48bd-abe9-0c265262be36",
   "metadata": {
    "language": "python",
    "name": "cell4"
   },
   "outputs": [],
   "source": "print(\"Preparing data for LightGBM training...\")\ntraining_data_pd = feature_eng_df.sort(\"QUERY_ID\").to_pandas()\n# Handle potential NaN/Inf values introduced during engineering\ntraining_data_pd.replace([np.inf, -np.inf], np.nan, inplace=True)\n# Simple imputation: fill NaN with 0 (consider more sophisticated methods)\ntraining_data_pd[feature_cols] = training_data_pd[feature_cols].fillna(0)\nX_train = training_data_pd[feature_cols]\ny_train = training_data_pd[target_col]\n# Calculate group sizes for LTR\n# group_data contains the number of items (offers) for each query (user)\ngroup_data = training_data_pd.groupby(\"QUERY_ID\").size().tolist()\nprint(f\"Training data shape: X={X_train.shape}, y={y_train.shape}\")\nprint(f\"Number of groups (queries): {len(group_data)}\")\nprint(f\"Group sizes sample: {group_data[:5]}...\")",
   "execution_count": null
  },
  {
   "cell_type": "markdown",
   "id": "3bab455e-fc93-4f0a-88a7-3a507e3eb7d2",
   "metadata": {
    "name": "cell12",
    "collapsed": false
   },
   "source": "### Train model"
  },
  {
   "cell_type": "code",
   "id": "4007b5cb-a7d6-4af9-8fab-1bac6b321b68",
   "metadata": {
    "language": "python",
    "name": "cell10"
   },
   "outputs": [],
   "source": "group_data",
   "execution_count": null
  },
  {
   "cell_type": "code",
   "id": "3af10307-6cdc-4de4-b4ac-fbc6fccc61de",
   "metadata": {
    "language": "python",
    "name": "cell2"
   },
   "outputs": [],
   "source": "print(\"Training LightGBM LGBMRanker model...\")\nranker = lgb.LGBMRanker(\n    objective=\"lambdarank\", # Standard LTR objective\n    metric=\"ndcg\",          # Normalized Discounted Cumulative Gain\n    n_estimators=100,\n    learning_rate=0.05,\n    num_leaves=31,\n    random_state=42,\n    n_jobs=-1,\n    # Add other hyperparameters as needed\n)\n\nranker.fit(\n    X_train,\n    y_train,\n    group=group_data,#\n    eval_set=[(X_train, y_train)], # Evaluate on training data for simplicity\n    eval_group=[group_data]\n)\nprint(\"LGBMRanker training complete.\")",
   "execution_count": null
  },
  {
   "cell_type": "code",
   "id": "035f2eff-54c9-4036-9ddc-4e978b7bde5b",
   "metadata": {
    "language": "python",
    "name": "cell13"
   },
   "outputs": [],
   "source": "ranker",
   "execution_count": null
  },
  {
   "cell_type": "code",
   "id": "7b1c01b3-327f-495b-8e42-b80921972088",
   "metadata": {
    "language": "python",
    "name": "cell14"
   },
   "outputs": [],
   "source": "from sklearn.metrics import mean_squared_error, r2_score\npreds = ranker.predict(X_train)\nmse = mean_squared_error(y_train, preds)\nr2 = r2_score(y_train, preds)\nprint(mse)",
   "execution_count": null
  },
  {
   "cell_type": "markdown",
   "id": "69a881c4-9a66-4302-8a47-d89f7a021803",
   "metadata": {
    "name": "cell16",
    "collapsed": false
   },
   "source": "### Deploy the model into model registry"
  },
  {
   "cell_type": "code",
   "id": "1139d3a8-9490-4f27-9c2d-cb3367890a26",
   "metadata": {
    "language": "python",
    "name": "cell15",
    "codeCollapsed": false
   },
   "outputs": [],
   "source": "from snowflake.ml.registry import registry",
   "execution_count": null
  },
  {
   "cell_type": "code",
   "id": "a0bb3b83-3ae9-419d-b9d3-526bbfb5b69a",
   "metadata": {
    "language": "python",
    "name": "cell17"
   },
   "outputs": [],
   "source": "reg = registry.Registry(session=session)",
   "execution_count": null
  },
  {
   "cell_type": "code",
   "id": "26b7fa78-bee5-4822-9ff2-412826a36200",
   "metadata": {
    "language": "python",
    "name": "cell18",
    "codeCollapsed": false
   },
   "outputs": [],
   "source": "model_name = \"ltr_model\"\nimage_repo_name = \"images\"\ncp_name = \"kipi_ltr_cpu\"\nnum_spcs_nodes = \"4\"\nspcs_instance_family = \"CPU_X64_L\"\nservice_name = \"kipi_ltr_service\"\ncurrent_database = session.get_current_database().replace('\"', '')\ncurrent_schema = session.get_current_schema().replace('\"', '')\nextended_image_repo_name = f\"{current_database}.{current_schema}.{image_repo_name}\"\nextended_service_name = f'{current_database}.{current_schema}.{service_name}'",
   "execution_count": null
  },
  {
   "cell_type": "code",
   "id": "8138ffff-4e48-4005-a318-6f5606a94022",
   "metadata": {
    "language": "python",
    "name": "cell20"
   },
   "outputs": [],
   "source": "!pip list",
   "execution_count": null
  },
  {
   "cell_type": "code",
   "id": "97bbecaa-529d-4b32-becd-a7682163624d",
   "metadata": {
    "language": "python",
    "name": "cell19",
    "codeCollapsed": false
   },
   "outputs": [],
   "source": "_ = reg.log_model(\n    ranker,\n    model_name=model_name,\n    sample_input_data=X_train,\n    pip_requirements=[\"lightgbm==4.5.0\"]\n)\n     ",
   "execution_count": null
  },
  {
   "cell_type": "code",
   "id": "2cdea4a8-c66a-44a3-a131-e658d91c47ed",
   "metadata": {
    "language": "python",
    "name": "cell22"
   },
   "outputs": [],
   "source": "m = reg.get_model(model_name)\nversion_df = m.show_versions()\nversion_df.head(100)",
   "execution_count": null
  },
  {
   "cell_type": "code",
   "id": "25cf05cf-9208-4f78-a7ca-1ef1af3be40a",
   "metadata": {
    "language": "python",
    "name": "cell21",
    "codeCollapsed": false
   },
   "outputs": [],
   "source": "last_version_name = version_df['name'].iloc[-1]\npip_model = m.version(last_version_name)\npip_model",
   "execution_count": null
  },
  {
   "cell_type": "code",
   "id": "739aea95-3be4-4e61-a63a-9782fc4a767b",
   "metadata": {
    "language": "python",
    "name": "cell23"
   },
   "outputs": [],
   "source": "session.sql(f\"alter compute pool if exists {cp_name} stop all\").collect()\nsession.sql(f\"drop compute pool if exists {cp_name}\").collect()\nsession.sql(f\"create compute pool {cp_name} min_nodes={num_spcs_nodes} max_nodes={num_spcs_nodes} instance_family={spcs_instance_family} auto_resume=True auto_suspend_secs=300\").collect()\nsession.sql(f\"describe compute pool {cp_name}\").show()",
   "execution_count": null
  },
  {
   "cell_type": "code",
   "id": "b1b215f2-a3af-4baa-9620-33b94b0bbea7",
   "metadata": {
    "language": "python",
    "name": "cell26"
   },
   "outputs": [],
   "source": "session.sql(f\"create or replace image repository {extended_image_repo_name}\").collect()",
   "execution_count": null
  },
  {
   "cell_type": "code",
   "id": "66cc5a2c-6eee-438a-8cb0-3868bca78a30",
   "metadata": {
    "language": "python",
    "name": "cell24",
    "codeCollapsed": false
   },
   "outputs": [],
   "source": "pip_model.create_service(\n    service_name=extended_service_name,\n    service_compute_pool=cp_name,\n    image_repo=extended_image_repo_name,\n    ingress_enabled=True,\n    max_instances=int(num_spcs_nodes),\n    build_external_access_integration=\"ALLOW_ALL_INTEGRATION\"\n)",
   "execution_count": null
  },
  {
   "cell_type": "code",
   "id": "6e300978-07bf-49ff-b5ae-3c309fcc89cf",
   "metadata": {
    "language": "python",
    "name": "cell25",
    "codeCollapsed": false
   },
   "outputs": [],
   "source": "pip_model.list_services()",
   "execution_count": null
  },
  {
   "cell_type": "code",
   "id": "bf5fdb56-6fb6-4657-93a4-af31d7168540",
   "metadata": {
    "language": "python",
    "name": "cell27"
   },
   "outputs": [],
   "source": "session.sql(f\"SELECT VALUE:status::VARCHAR as SERVICESTATUS, VALUE:message::VARCHAR as SERVICEMESSAGE FROM TABLE(FLATTEN(input => parse_json(system$get_service_status('{service_name}')), outer => true)) f\").show(100)",
   "execution_count": null
  },
  {
   "cell_type": "code",
   "id": "42f04215-f1e4-4ae7-864d-f4737ca1362f",
   "metadata": {
    "language": "python",
    "name": "cell28"
   },
   "outputs": [],
   "source": "pip_model.run(X_train, function_name=\"predict\", service_name=service_name)",
   "execution_count": null
  },
  {
   "cell_type": "code",
   "id": "85f05ac3-9349-47b4-95d0-01d1adbf642a",
   "metadata": {
    "language": "python",
    "name": "cell29"
   },
   "outputs": [],
   "source": "session.sql(f\"show endpoints in service {service_name}\").collect()[0][\"ingress_url\"]",
   "execution_count": null
  },
  {
   "cell_type": "code",
   "id": "506a99e4-d8b4-4924-870c-eb2f4177ce0b",
   "metadata": {
    "language": "python",
    "name": "cell30"
   },
   "outputs": [],
   "source": "pip_model.show_functions()",
   "execution_count": null
  },
  {
   "cell_type": "code",
   "id": "39554ea9-12e2-470d-acb1-fadad44d66b9",
   "metadata": {
    "language": "python",
    "name": "cell31"
   },
   "outputs": [],
   "source": "feature_columns = [feature.name for feature in pip_model.show_functions()[0][\"signature\"].inputs]\nfeature_columns",
   "execution_count": null
  },
  {
   "cell_type": "code",
   "id": "6b94b4d7-564f-4a24-b2ed-71e37075f7f3",
   "metadata": {
    "language": "python",
    "name": "cell34"
   },
   "outputs": [],
   "source": "sample_data = X_train.iloc[0]",
   "execution_count": null
  },
  {
   "cell_type": "code",
   "id": "034600e2-4da7-4648-bca3-c89aebb09ed1",
   "metadata": {
    "language": "python",
    "name": "cell35"
   },
   "outputs": [],
   "source": "print(sample_data.tolist())",
   "execution_count": null
  }
 ]
}